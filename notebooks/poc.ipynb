{
 "cells": [
  {
   "cell_type": "markdown",
   "metadata": {},
   "source": [
    "# LLM Calls"
   ]
  },
  {
   "cell_type": "code",
   "execution_count": 4,
   "metadata": {},
   "outputs": [
    {
     "data": {
      "text/plain": [
       "'Hello! How can I assist you today?'"
      ]
     },
     "execution_count": 4,
     "metadata": {},
     "output_type": "execute_result"
    }
   ],
   "source": [
    "from langchain.llms import OpenAI\n",
    "from langchain.chat_models import ChatOpenAI\n",
    "# llm = OpenAI(model=\"gpt-3.5-turbo\")\n",
    "chat_model = ChatOpenAI(model=\"gpt-3.5-turbo\")\n",
    "# llm.predict(\"hi!\")\n",
    "chat_model.predict(\"Hi\")"
   ]
  },
  {
   "cell_type": "markdown",
   "metadata": {},
   "source": [
    "# Download competitions"
   ]
  },
  {
   "cell_type": "code",
   "execution_count": 15,
   "metadata": {},
   "outputs": [
    {
     "name": "stdout",
     "output_type": "stream",
     "text": [
      "Warning: Your Kaggle API key is readable by other users on this system! To fix this, you can run 'chmod 600 /home/romain/.kaggle/kaggle.json'\n"
     ]
    }
   ],
   "source": [
    "from kaggle.api.kaggle_api_extended import KaggleApi\n",
    "api = KaggleApi()\n",
    "api.authenticate()"
   ]
  },
  {
   "cell_type": "code",
   "execution_count": 17,
   "metadata": {},
   "outputs": [
    {
     "data": {
      "text/plain": [
       "True"
      ]
     },
     "execution_count": 17,
     "metadata": {},
     "output_type": "execute_result"
    }
   ],
   "source": [
    "# api.dataset_download_file('kaggle/meta-kaggle/download?datasetVersionNumber=1131',\n",
    "#                           file_name='Competitions.csv',\n",
    "#                           path='./data')\n",
    "\n",
    "api.dataset_download_file('kaggle/meta-kaggle/download?datasetVersionNumber=1131',\n",
    "                          file_name='ForumTopics.csv',\n",
    "                          path='./data')"
   ]
  },
  {
   "cell_type": "code",
   "execution_count": 21,
   "metadata": {},
   "outputs": [],
   "source": [
    "import zipfile\n",
    "\n",
    "def extract_zip(name):\n",
    "    zip_path = f'./data/{name}.csv.zip'  \n",
    "    extract_path = './data'  \n",
    "\n",
    "    with zipfile.ZipFile(zip_path, 'r') as zip_ref:\n",
    "        zip_ref.extractall(extract_path)\n",
    "\n",
    "extract_zip(\"ForumTopics\")"
   ]
  },
  {
   "cell_type": "code",
   "execution_count": 2,
   "metadata": {},
   "outputs": [
    {
     "data": {
      "text/html": [
       "<div>\n",
       "<style scoped>\n",
       "    .dataframe tbody tr th:only-of-type {\n",
       "        vertical-align: middle;\n",
       "    }\n",
       "\n",
       "    .dataframe tbody tr th {\n",
       "        vertical-align: top;\n",
       "    }\n",
       "\n",
       "    .dataframe thead th {\n",
       "        text-align: right;\n",
       "    }\n",
       "</style>\n",
       "<table border=\"1\" class=\"dataframe\">\n",
       "  <thead>\n",
       "    <tr style=\"text-align: right;\">\n",
       "      <th></th>\n",
       "      <th>Id</th>\n",
       "      <th>ForumId</th>\n",
       "      <th>KernelId</th>\n",
       "      <th>LastForumMessageId</th>\n",
       "      <th>FirstForumMessageId</th>\n",
       "      <th>CreationDate</th>\n",
       "      <th>LastCommentDate</th>\n",
       "      <th>Title</th>\n",
       "      <th>IsSticky</th>\n",
       "      <th>TotalViews</th>\n",
       "      <th>Score</th>\n",
       "      <th>TotalMessages</th>\n",
       "      <th>TotalReplies</th>\n",
       "    </tr>\n",
       "  </thead>\n",
       "  <tbody>\n",
       "    <tr>\n",
       "      <th>0</th>\n",
       "      <td>46</td>\n",
       "      <td>1</td>\n",
       "      <td>NaN</td>\n",
       "      <td>684511.0</td>\n",
       "      <td>220.0</td>\n",
       "      <td>08/03/2010 22:24:40</td>\n",
       "      <td>11/30/2019 00:07:53</td>\n",
       "      <td>The solution</td>\n",
       "      <td>False</td>\n",
       "      <td>11409</td>\n",
       "      <td>0</td>\n",
       "      <td>8</td>\n",
       "      <td>7</td>\n",
       "    </tr>\n",
       "    <tr>\n",
       "      <th>1</th>\n",
       "      <td>6589</td>\n",
       "      <td>1</td>\n",
       "      <td>NaN</td>\n",
       "      <td>554419.0</td>\n",
       "      <td>36135.0</td>\n",
       "      <td>12/12/2013 22:18:34</td>\n",
       "      <td>06/17/2019 11:42:33</td>\n",
       "      <td>What is H in test-data?</td>\n",
       "      <td>False</td>\n",
       "      <td>1940</td>\n",
       "      <td>0</td>\n",
       "      <td>3</td>\n",
       "      <td>2</td>\n",
       "    </tr>\n",
       "    <tr>\n",
       "      <th>2</th>\n",
       "      <td>36</td>\n",
       "      <td>1</td>\n",
       "      <td>NaN</td>\n",
       "      <td>141.0</td>\n",
       "      <td>134.0</td>\n",
       "      <td>06/30/2010 20:20:10</td>\n",
       "      <td>06/30/2010 20:20:10</td>\n",
       "      <td>Scoring system</td>\n",
       "      <td>False</td>\n",
       "      <td>4781</td>\n",
       "      <td>0</td>\n",
       "      <td>4</td>\n",
       "      <td>3</td>\n",
       "    </tr>\n",
       "    <tr>\n",
       "      <th>3</th>\n",
       "      <td>119608</td>\n",
       "      <td>1</td>\n",
       "      <td>NaN</td>\n",
       "      <td>1667283.0</td>\n",
       "      <td>684518.0</td>\n",
       "      <td>11/30/2019 00:23:31</td>\n",
       "      <td>01/28/2022 12:52:13</td>\n",
       "      <td>Submissions Closed/Solution Data Unavailable</td>\n",
       "      <td>False</td>\n",
       "      <td>0</td>\n",
       "      <td>0</td>\n",
       "      <td>5</td>\n",
       "      <td>4</td>\n",
       "    </tr>\n",
       "    <tr>\n",
       "      <th>4</th>\n",
       "      <td>62</td>\n",
       "      <td>1</td>\n",
       "      <td>NaN</td>\n",
       "      <td>402.0</td>\n",
       "      <td>328.0</td>\n",
       "      <td>08/11/2010 18:12:05</td>\n",
       "      <td>08/11/2010 18:12:05</td>\n",
       "      <td>Accuracy on full data set</td>\n",
       "      <td>False</td>\n",
       "      <td>6241</td>\n",
       "      <td>0</td>\n",
       "      <td>3</td>\n",
       "      <td>2</td>\n",
       "    </tr>\n",
       "  </tbody>\n",
       "</table>\n",
       "</div>"
      ],
      "text/plain": [
       "       Id  ForumId  KernelId  LastForumMessageId  FirstForumMessageId  \\\n",
       "0      46        1       NaN            684511.0                220.0   \n",
       "1    6589        1       NaN            554419.0              36135.0   \n",
       "2      36        1       NaN               141.0                134.0   \n",
       "3  119608        1       NaN           1667283.0             684518.0   \n",
       "4      62        1       NaN               402.0                328.0   \n",
       "\n",
       "          CreationDate      LastCommentDate  \\\n",
       "0  08/03/2010 22:24:40  11/30/2019 00:07:53   \n",
       "1  12/12/2013 22:18:34  06/17/2019 11:42:33   \n",
       "2  06/30/2010 20:20:10  06/30/2010 20:20:10   \n",
       "3  11/30/2019 00:23:31  01/28/2022 12:52:13   \n",
       "4  08/11/2010 18:12:05  08/11/2010 18:12:05   \n",
       "\n",
       "                                          Title  IsSticky  TotalViews  Score  \\\n",
       "0                                  The solution     False       11409      0   \n",
       "1                       What is H in test-data?     False        1940      0   \n",
       "2                                Scoring system     False        4781      0   \n",
       "3  Submissions Closed/Solution Data Unavailable     False           0      0   \n",
       "4                     Accuracy on full data set     False        6241      0   \n",
       "\n",
       "   TotalMessages  TotalReplies  \n",
       "0              8             7  \n",
       "1              3             2  \n",
       "2              4             3  \n",
       "3              5             4  \n",
       "4              3             2  "
      ]
     },
     "execution_count": 2,
     "metadata": {},
     "output_type": "execute_result"
    }
   ],
   "source": [
    "import pandas as pd\n",
    "forums_df = pd.read_csv(\"./data/ForumTopics.csv\")\n",
    "forums_df.head()"
   ]
  },
  {
   "cell_type": "code",
   "execution_count": 3,
   "metadata": {},
   "outputs": [],
   "source": [
    "comp_df = pd.read_csv(\"./data/Competitions.csv\")\n",
    "# we can filter to keep only the best competitions, i.e. \"Featured\", \"Reseach\" and recruitments"
   ]
  },
  {
   "cell_type": "code",
   "execution_count": 17,
   "metadata": {},
   "outputs": [
    {
     "data": {
      "text/plain": [
       "'https://www.kaggle.com/c/Eurovision2010'"
      ]
     },
     "execution_count": 17,
     "metadata": {},
     "output_type": "execute_result"
    }
   ],
   "source": [
    "\n",
    "comp_slug = \"Eurovision2010\"\n",
    "comp_url = \"https://www.kaggle.com/c/\"+str(comp_slug)\n",
    "comp_url"
   ]
  },
  {
   "cell_type": "markdown",
   "metadata": {},
   "source": [
    "# Scrapping a competition"
   ]
  },
  {
   "cell_type": "code",
   "execution_count": 10,
   "metadata": {},
   "outputs": [
    {
     "data": {
      "text/plain": [
       "<div class=\"sc-fOVJBw gEnjkX\"><div class=\"sc-jhJPuH lexbYk\" id=\"background\"><div class=\"sc-dskThN cGppFq sc-ealCdV jZWWSy\"><div class=\"sc-cYRmzm SKQgu\"><div class=\"sc-jVIkER hIVbFL\" id=\"Background\"><div class=\"sc-iHpopC bLEUds\"><h5 class=\"sc-brKeYL sc-ktEKTO izsmej JpJng\">Background</h5></div><button aria-label=\"Copy link\" class=\"sc-ejdXBC jEohRd undefined google-material-icons\" title=\"Copy link\">link</button></div><button aria-label=\"Collapse \" class=\"sc-ejdXBC jEohRd undefined google-material-icons\" style=\"flex-shrink: 0;\" title=\"Collapse \">keyboard_arrow_up</button></div><div><div class=\"sc-SQxqA hAiBil\"><div class=\"sc-dlyeST hCUClb\">The Eurovision Song Contest is an annual competition broadcast worldwide which is open to entrants from active members of the European Broadcasting Union (EBU).  This is not defined by Europe's geographical bounds; for example Israel and Cyprus compete in the contest.  This year's contest is being held in Oslo, Norway.  The location is usually the country of the previous year's winner.  The number of entrants changes on a yearly basis, due to flux in EBU membership, political shifts such as the dissolution of the Former Soviet Union and Yugoslavia, and desire (or lack thereof) of countries to participate.   <br/><br/>Each country must submit one song to represent it, which must not have been previously commercially released.  All songs are, however, made public by a deadline several weeks before the contest, and this year's entrants are all known already with details such as title, language and artist included in the database provided.   Since 1999 songs may be sung in any language, whereas prior to this point (up to 1998 inclusive) songs had to be sung in one of the entrant country's national languages.<br/><br/>Although the voting format has changed over time, the modern positional voting system has been in place since 1975.  Voting countries award scores of 1, 2, 3, 4, 5, 6, 7, 8, 10, and 12 to competitors, with 12 allocated to the favourite song.  Each score can only be awarded once; ie: each voting country can only allocate scores to 10 countries, with all other countries automatically allocated a score of 0.  These scores are then added up to determine a competitor's final score.  No country can vote for itself.<br/><br/>Although mass televoting has been the primary mode of final voting since its implementation in 1998, each country also has a back-up jury in the event of failure of the televoting system.  Some countries also supplement televotes with sms votes.<br/><br/>Despite the introduction of semi-finals in 2004, the four same countries - Germany, Spain, United Kingdom and France - automatically qualify for the final each year.  This means that they do not compete in the semi-final.  Additionally, the host country - this year, Norway - is also exempt from performing in the semi-final, automatically qualifying for the final.  However, these five countries do vote in the semi-final, specifically France, Germany and Spain in semi-final 1, and United Kingdom and Norway in semi-final 2 this year. <br/></div></div></div></div></div><div class=\"sc-jhJPuH lexbYk\" id=\"custom\"><div class=\"sc-dskThN cGppFq sc-ealCdV jZWWSy\"><div class=\"sc-cYRmzm SKQgu\"><div class=\"sc-jVIkER hIVbFL\" id=\"Custom\"><div class=\"sc-iHpopC bLEUds\"><h5 class=\"sc-brKeYL sc-ktEKTO izsmej JpJng\">Custom</h5></div><button aria-label=\"Copy link\" class=\"sc-ejdXBC jEohRd undefined google-material-icons\" title=\"Copy link\">link</button></div><button aria-label=\"Collapse \" class=\"sc-ejdXBC jEohRd undefined google-material-icons\" style=\"flex-shrink: 0;\" title=\"Collapse \">keyboard_arrow_up</button></div><div><div class=\"sc-SQxqA hAiBil\"><div class=\"sc-dlyeST hCUClb\"><b>Hint 1</b><br/>We suggest browsing Dr. Tim Cocx's 'Analysis on the Eurovision Songcontest' available at <a href=\"http://www.liacs.nl/%7Etcocx/songfestival/indexenglish.html\" rel=\"noreferrer nofollow\">http://www.liacs.nl/~tcocx/songfestival/indexenglish.html</a>.  It contains an interesting document - a 'Distance matrix' - which represent an abstract (non-geographic) distance that denotes how many points the countries awarded one another in past contests, where a shorter distance implies higher exchanged scores and a larger distance implies fewer exchanged points.  You may consider it worth utilising or producing your own, up-to-date, version based on a similar concept<br/><br/><b>Hint 2</b><br/>One way to approach this competition might be to work out that country A normally allocates country B between 4 and 10 votes (with the precise score depending on the performance's quality). Once you have determined these ranges for all countries, you can use betting market data as a proxy for performance quality. <br/><br/><b>Hint 3</b><br/>If you're thinking about augmenting our dataset, you may be want to try and track down data on expatriate populations in each voting country.<br/></div></div></div></div></div><div class=\"sc-jhJPuH lexbYk\" id=\"custom\"><div class=\"sc-dskThN cGppFq sc-ealCdV jZWWSy\"><div class=\"sc-cYRmzm SKQgu\"><div class=\"sc-jVIkER hIVbFL\" id=\"Custom\"><div class=\"sc-iHpopC bLEUds\"><h5 class=\"sc-brKeYL sc-ktEKTO izsmej JpJng\">Custom</h5></div><button aria-label=\"Copy link\" class=\"sc-ejdXBC jEohRd undefined google-material-icons\" title=\"Copy link\">link</button></div><button aria-label=\"Collapse \" class=\"sc-ejdXBC jEohRd undefined google-material-icons\" style=\"flex-shrink: 0;\" title=\"Collapse \">keyboard_arrow_up</button></div><div><div class=\"sc-SQxqA hAiBil\"><div class=\"sc-dlyeST hCUClb\">Thank you to Stephanie Wayne for putting this competition together.<br/><br/>We would also like to thank Betfair Pty Ltd for supplying betting prices data</div></div></div></div></div><div class=\"sc-jhJPuH lexbYk\" id=\"description\"><div class=\"sc-dskThN cGppFq sc-ealCdV jZWWSy\"><div class=\"sc-cYRmzm SKQgu\"><div class=\"sc-jVIkER hIVbFL\" id=\"Description\"><div class=\"sc-iHpopC bLEUds\"><h5 class=\"sc-brKeYL sc-ktEKTO izsmej JpJng\">Description</h5></div><button aria-label=\"Copy link\" class=\"sc-ejdXBC jEohRd undefined google-material-icons\" title=\"Copy link\">link</button></div><button aria-label=\"Collapse \" class=\"sc-ejdXBC jEohRd undefined google-material-icons\" style=\"flex-shrink: 0;\" title=\"Collapse \">keyboard_arrow_up</button></div><div><div class=\"sc-SQxqA hAiBil\"><div class=\"sc-dlyeST hCUClb\"><b>The intrigue of Eurovision - the modeller's delight</b><br/><br/>Since its inauguration in 1956, the Eurovision Song Contest has transfixed millions of viewers worldwide with its bubblegum pop, quirks, ballads and flops.  During its tenure as one of the world's longest-running television programs, it has attracted its fair share of controversy, with claims that the voting outcomes don't simply reflect performance quality but are influenced by factors such as regional politics, expatriate populations, alliances, and artists' sexual appeal.  Patterns have appeared over time which support this hypothesis. <br/><br/>Contestants will attempt to exploit these patterns in order to predict the voting for the 2010 Eurovision Song Contest. <br/><br/><b>Down to the details</b><br/><br/>We will provide you with publicly-available data on variables we have deemed potentially important, such as historical voting patterns, betting odds, song details and artist details.  You are welcome to supplement this with any data you believe will improve the accuracy of your model.<br/><br/>As the voting method for the Contest has changed over time, we will supply 'Finals' data from 1998 when the current \"televoting\" format was implemented, and 'semi-finals' data from 2004 when semi-finals were introduced.  We will detail Eurovision's voting procedures and their minor changes/exceptions pertinent to the provided data in the 'Data' page of this competition. <br/><br/>Your entry will involve submitting a matrix of the individual votes of each voting country for the competitor countries. <br/><br/><b>What is your incentive to enter?</b><br/><br/>There will be a cash prize of USD1000 for the contestant who produces the most accurate predictions. And just as the Contest has launched the high-flying careers of its own performers - notably ABBA and Céline Dion - creating a strong model for this competition will land you a top ranking as a modeler on the Kaggle website.</div></div></div></div></div><div class=\"sc-jhJPuH lexbYk\" id=\"evaluation\"><div class=\"sc-dskThN cGppFq sc-ealCdV jZWWSy\"><div class=\"sc-cYRmzm SKQgu\"><div class=\"sc-jVIkER hIVbFL\" id=\"Evaluation\"><div class=\"sc-iHpopC bLEUds\"><h5 class=\"sc-brKeYL sc-ktEKTO izsmej JpJng\">Evaluation</h5></div><button aria-label=\"Copy link\" class=\"sc-ejdXBC jEohRd undefined google-material-icons\" title=\"Copy link\">link</button></div><button aria-label=\"Collapse \" class=\"sc-ejdXBC jEohRd undefined google-material-icons\" style=\"flex-shrink: 0;\" title=\"Collapse \">keyboard_arrow_up</button></div><div><div class=\"sc-SQxqA hAiBil\"><div class=\"sc-dlyeST hCUClb\"><p>Evaluation will be performed using the 'Absolute Error' method. A submission's absolute error is calculated by summing the absolute difference between predicted and actual votes.  A low score implies a small deviation of predicted votes from actual votes; a higher score implies a larger difference between predicted votes and actual votes.  The most accurate prediction has the lowest Absolute Error score.  <br/><br/>Here is an example of how 'Absolute Error' evaluation works:<br/><br/>Predicted voting (submitted by contestant X)<br/>                   France      Moldova     Norway<br/>France         0              1               1<br/>Moldova       2              0               2<br/>Norway        1              2               0</p>\n",
       "<p><br/>Actual voting<br/>                   France      Moldova     Norway<br/>France         0              1               2<br/>Moldova       1              0               1<br/>Norway        2              2               0 </p>\n",
       "<p>Contestant X's Absolute Error score, working row-by-row, would be calculated as follows: <br/>Absolute Error(X) = abs(0-0) + abs(1-1) + abs(2-1) + abs(1-2) + abs(0-0) + abs(1-2) + abs(2-1) + abs(2-2) + abs(0-0)<br/>                          = 0 + 0 + 1 + 1 + 0 + 1 + 1+ 0 + 0<br/>                          = 4 </p></div></div></div></div></div><div class=\"sc-jhJPuH lexbYk\" id=\"prizes\"><div class=\"sc-dskThN cGppFq sc-ealCdV jZWWSy\"><div class=\"sc-cYRmzm SKQgu\"><div class=\"sc-jVIkER hIVbFL\" id=\"Prizes\"><div class=\"sc-iHpopC bLEUds\"><h5 class=\"sc-brKeYL sc-ktEKTO izsmej JpJng\">Prizes</h5></div><button aria-label=\"Copy link\" class=\"sc-ejdXBC jEohRd undefined google-material-icons\" title=\"Copy link\">link</button></div><button aria-label=\"Collapse \" class=\"sc-ejdXBC jEohRd undefined google-material-icons\" style=\"flex-shrink: 0;\" title=\"Collapse \">keyboard_arrow_up</button></div><div><div class=\"sc-SQxqA hAiBil\"><div class=\"sc-dlyeST hCUClb\">The Eurovision Song Contest 2010 forecasting competition will award a prize of US$1000 to the winning entrant.<br/>The prize money will only be awarded once the winner has sent a brief description of the methodology employed to generate his/her submission.</div></div></div></div></div><div class=\"sc-jhJPuH lexbYk\" id=\"rules\"><div class=\"sc-dskThN cGppFq sc-ealCdV jZWWSy\"><div class=\"sc-cYRmzm SKQgu\"><div class=\"sc-jVIkER hIVbFL\" id=\"Rules\"><div class=\"sc-iHpopC bLEUds\"><h5 class=\"sc-brKeYL sc-ktEKTO izsmej JpJng\">Rules</h5></div><button aria-label=\"Copy link\" class=\"sc-ejdXBC jEohRd undefined google-material-icons\" title=\"Copy link\">link</button></div><button aria-label=\"Collapse \" class=\"sc-ejdXBC jEohRd undefined google-material-icons\" style=\"flex-shrink: 0;\" title=\"Collapse \">keyboard_arrow_up</button></div><div><div class=\"sc-SQxqA hAiBil\"><div class=\"sc-dlyeST hCUClb\">\n",
       "<h3>One account per participant</h3>\n",
       "<p>You cannot sign up to Kaggle from multiple accounts and therefore you cannot submit from multiple accounts.</p>\n",
       "<h3>No private sharing outside teams</h3>\n",
       "<p>\n",
       "        Privately sharing code or data outside of teams is not permitted.\n",
       "        It's okay to share code if made available to all participants on the forums.\n",
       "    </p>\n",
       "<h3>Team Mergers</h3>\n",
       "<p>\n",
       "        Team mergers are allowed and can be performed by the team leader. In order to merge, the combined team must have a total submission count less than or equal to the maximum allowed as of the merge date. The maximum allowed is the number of submissions per day multiplied by the number of days the competition has been running.<br/>\n",
       "</p>\n",
       "<h3>Team Limits</h3>\n",
       "<p>There is no maximum team size.</p>\n",
       "<h3>Submission Limits</h3>\n",
       "<p>You may submit a maximum of 5 entries per day.</p>\n",
       "<p>You may select up to 5 final submissions for judging.</p>\n",
       "<h3>Competition Timeline</h3>\n",
       "<p>Start Date: <strong>4/7/2010 7:57 AM UTC</strong></p>\n",
       "<p>Merger Deadline: <strong>None</strong></p>\n",
       "<p>Entry Deadline: <strong>None</strong></p>\n",
       "<p>End Date: <strong>5/25/2010 6:00 PM UTC</strong></p>\n",
       "<b>Who may enter</b><br/><br/>Anybody who complies with the rules of the challenge Eurovision Song Contest 2010 is welcome to participate.  <br/>Only the competition organisers and employees of the European Broadcasting Union are excluded from participating.  <br/>Contestants may enter as individuals or as groups, however the subsequent ranking achieved by their model will be allocated to their individual self/group accordingly.  <br/>All entrants must identify themselves by registering on Kaggle website, however personal data will only be utilised by the competition organisers and Kaggle in order to communicate with participants.  <br/><br/><b>Submission details</b><br/><br/>Submissions should be made via the 'Make a Submission' page in order to be ranked.  <br/>Each contestant may only enter one submission.  <br/>If you encounter any problems with the submission process, please contact the Kaggle administrator.<br/><br/><b>Evaluation and prize-giving</b><br/><br/>The scoring method is detailed on the 'Evaluation' page.  <br/>The winner of the Eurovision Song Contest 2010 will only receive the prize money after a brief description of their methodology has been submitted to the competition host.  <br/>We may ask other top-ranking participants to voluntarily fill out a form regarding their modelling methods.</div></div></div></div></div><div class=\"sc-jhJPuH lexbYk\" id=\"submission-instructions\"><div class=\"sc-dskThN cGppFq sc-ealCdV jZWWSy\"><div class=\"sc-cYRmzm SKQgu\"><div class=\"sc-jVIkER hIVbFL\" id=\"SubmissionInstructions\"><div class=\"sc-iHpopC bLEUds\"><h5 class=\"sc-brKeYL sc-ktEKTO izsmej JpJng\">SubmissionInstructions</h5></div><button aria-label=\"Copy link\" class=\"sc-ejdXBC jEohRd undefined google-material-icons\" title=\"Copy link\">link</button></div><button aria-label=\"Collapse \" class=\"sc-ejdXBC jEohRd undefined google-material-icons\" style=\"flex-shrink: 0;\" title=\"Collapse \">keyboard_arrow_up</button></div><div><div class=\"sc-SQxqA hAiBil\"><div class=\"sc-dlyeST hCUClb\">Submissions must be made using the template attached.<br/><br/>The countries listed in column one are the competitors in the Eurovision Song Contest 2010 final. The countries listed in row one are the voting countries. Only 25 of these 39 competing (column one) countries will progress from the semi-finals to the final, however each voting country listed in (row one) will vote in the final.  <br/><br/>Your task effectively involves  two steps:<br/>1. Firstly you must predict which 25 countries will make it to the final. Keep in mind that Spain, United\n",
       "Kingdom, France, Germany and Norway are guaranteed final competitors.<br/>2. Once you have chosen your 25 finalists you must predict the voting (ie who will vote for who). Make sure you only allocate votes to the 25 countries you predict will make the final. <br/><br/>Submissions will only be accepted if each voting country (in row one) has allocated all its votes once to the potential final competitors (in column one), ie: the scores of 1, 2, 3, 4, 5, 6, 7, 8, 10, 12 have been allocated exactly once per voting country.<br/>Submissions with scores other than 1, 2, 3, 4, 5, 6, 7, 8, 10 or 12 will not be accepted.<br/>Submissions will only be accepted if votes are allocated to ≤ 25 countries.  Submissions with votes allocated to &gt; 25 countries will not be accepted. Note: all 39 countries vote regardless of whether or not they make the final. <br/><br/>Each contestant may only enter with one submission. However, a contestant can delete and replace their submission at any time up until the competition's deadline. <br/><br/>As exemplified by the example submission, please ensure that there are no blank cells; instead, where no vote is allocated, enter a '0'.<br/><br/>Note: you can open CSV files with Microsoft Excel or OpenOffice for more human-friendly viewing. <br/></div></div></div></div></div><div class=\"sc-gnApLm kABywM\" id=\"citation\"><div class=\"sc-dskThN cGppFq\" style=\"border-top: 0px; border-bottom: 0px;\"><div class=\"sc-cYRmzm SKQgu\"><div class=\"sc-jTsRVL hIopIw\"><h5 class=\"sc-brKeYL sc-ktEKTO izsmej JpJng\">Citation</h5></div><button aria-label=\"Collapse Citation\" class=\"sc-ejdXBC jEohRd undefined google-material-icons\" style=\"flex-shrink: 0;\" title=\"Collapse Citation\">keyboard_arrow_up</button></div><div><div class=\"sc-kPBDNk jBQzpY\"><p class=\"sc-dKfzgJ sc-hIqOWS sc-cSUahz gAvIHe dclpAt fQzTWb\">Anthony Goldbloom. (2010). Forecast Eurovision Voting . Kaggle. https://kaggle.com/competitions/Eurovision2010</p><button class=\"sc-hjsqBZ iHSEld\" role=\"button\" tabindex=\"0\"><span class=\"sc-gjTGSA sc-eACynP jTTdyU ctdVmt\">Cite</span></button><div class=\"sc-iVFRtF cjTqLn mdc-dialog\"><div class=\"mdc-dialog__container\"><div aria-modal=\"true\" class=\"mdc-dialog__surface\" role=\"alertdialog\"></div></div><div class=\"mdc-dialog__scrim\"></div></div></div></div></div></div></div>"
      ]
     },
     "execution_count": 10,
     "metadata": {},
     "output_type": "execute_result"
    }
   ],
   "source": [
    "from selenium import webdriver\n",
    "from bs4 import BeautifulSoup\n",
    "from selenium.webdriver.common.by import By\n",
    "from selenium.webdriver.support.wait import WebDriverWait\n",
    "from selenium.webdriver.support import expected_conditions as EC\n",
    "\n",
    "\n",
    "options = webdriver.ChromeOptions()\n",
    "options.add_argument(\"ignore-certificate-errors\")\n",
    "# options.add_argument(\"--headless\")\n",
    "driver = webdriver.Chrome(options=options) \n",
    "\n",
    "def get_page_content(url):\n",
    "    driver.get(url)\n",
    "\n",
    "    element = WebDriverWait(driver, 10).until(\n",
    "        # EC.presence_of_element_located((By.ID, \"pageheader-nav-item--overview\"))\n",
    "        EC.presence_of_element_located((By.ID, \"background\"))\n",
    "    )\n",
    "    soup = BeautifulSoup(driver.page_source, 'html.parser').find(\"div\", {\"id\": \"background\"}).find_parent(\"div\")\n",
    "    return soup, soup.get_text()\n",
    "\n",
    "soup, content = get_page_content('http://www.kaggle.com/c/Eurovision2010')\n",
    "soup"
   ]
  },
  {
   "cell_type": "code",
   "execution_count": 11,
   "metadata": {},
   "outputs": [
    {
     "data": {
      "text/plain": [
       "'Backgroundlinkkeyboard_arrow_upThe Eurovision Song Contest is an annual competition broadcast worldwide which is open to entrants from active members of the European Broadcasting Union (EBU).\\xa0 This is not defined by Europe\\'s geographical bounds; for example Israel and Cyprus compete in the contest.\\xa0 This year\\'s contest is being held in Oslo, Norway.\\xa0 The location is usually the country of the previous year\\'s winner.\\xa0 The number of entrants changes on a yearly basis, due to flux in EBU membership, political shifts such as the dissolution of the Former Soviet Union and Yugoslavia, and desire (or lack thereof) of countries to participate.\\xa0 \\xa0Each country must submit one song to represent it, which must not have been previously commercially released.\\xa0 All songs are, however, made public by a deadline several weeks before the contest, and this year\\'s entrants are all known already with details such as title, language and artist included in the database provided.\\xa0\\xa0 Since 1999 songs may be sung in any language, whereas prior to this point (up to 1998 inclusive) songs had to be sung in one of the entrant country\\'s national languages.Although the voting format has changed over time, the modern positional voting system has been in place since 1975.\\xa0 Voting countries award scores of 1, 2, 3, 4, 5, 6, 7, 8, 10, and 12 to competitors, with 12 allocated to the favourite song.\\xa0 Each score can only be awarded once; ie: each voting country can only allocate scores to 10 countries, with all other countries automatically allocated a score of 0.\\xa0 These scores are then added up to determine a competitor\\'s final score.\\xa0 No country can vote for itself.Although mass televoting has been the primary mode of final voting since its implementation in 1998, each country also has a back-up jury in the event of failure of the televoting system.\\xa0 Some countries also supplement televotes with sms votes.Despite the introduction of semi-finals in 2004, the four same countries - Germany, Spain, United Kingdom and France - automatically qualify for the final each year.\\xa0 This means that they do not compete in the semi-final.\\xa0 Additionally, the host country - this year, Norway - is also exempt from performing in the semi-final, automatically qualifying for the final.\\xa0 However, these five countries do vote in the semi-final, specifically France, Germany and Spain in semi-final 1, and United Kingdom and Norway in semi-final 2 this year. Customlinkkeyboard_arrow_upHint 1We suggest browsing\\xa0Dr. Tim Cocx\\'s\\xa0\\'Analysis on the Eurovision Songcontest\\' available at http://www.liacs.nl/~tcocx/songfestival/indexenglish.html.\\xa0 It contains an interesting document - a \\'Distance matrix\\' - which\\xa0represent an abstract (non-geographic) distance that denotes how many points the countries awarded one another in past contests, where a shorter distance implies higher exchanged scores and a larger distance\\xa0implies\\xa0fewer exchanged points.\\xa0 You may consider it worth utilising or producing your own, up-to-date, version based on a similar conceptHint 2One way to approach this competition might be to work out that country A normally allocates country B between 4 and 10 votes (with the precise score depending on the performance\\'s quality). Once you have determined these ranges for all countries, you can use betting market data as a proxy for performance quality. Hint 3If you\\'re thinking about augmenting our dataset, you may be want to try and track down data on expatriate populations in each voting country.Customlinkkeyboard_arrow_upThank you to Stephanie Wayne for putting this competition together.We would also like to thank Betfair Pty Ltd for supplying\\xa0betting prices\\xa0dataDescriptionlinkkeyboard_arrow_upThe intrigue of Eurovision - the modeller\\'s delightSince its inauguration in 1956, the Eurovision Song Contest has transfixed millions of viewers worldwide with its bubblegum pop, quirks, ballads and flops.\\xa0 During its tenure as one of the world\\'s longest-running television programs, it has attracted its fair share of controversy, with claims that the voting outcomes don\\'t simply reflect performance quality but are influenced by factors such as regional politics, expatriate populations, alliances, and artists\\' sexual appeal.\\xa0 Patterns have appeared over time which support this hypothesis. Contestants will attempt to exploit these patterns in order to predict the voting for the 2010 Eurovision Song Contest. Down to the detailsWe will provide you with publicly-available data on variables we have deemed potentially important, such as historical voting patterns, betting odds, song details and artist details.\\xa0 You are welcome to supplement this with any data you believe will improve the accuracy of your model.As the voting method for the Contest has changed over time, we will supply \\'Finals\\' data from 1998 when the current \"televoting\" format was implemented, and \\'semi-finals\\' data from 2004 when semi-finals were introduced.\\xa0 We will detail Eurovision\\'s voting procedures and their minor changes/exceptions pertinent to the provided data in the \\'Data\\' page of this competition. Your entry will involve submitting a matrix of the individual votes of each voting country for the competitor countries. What is your incentive to enter?There will be a cash prize of USD1000 for the contestant who produces the most accurate predictions. And just as the Contest has launched the high-flying careers of its own performers - notably ABBA and Céline Dion - creating a strong model for this competition will land you a top ranking as a modeler on the Kaggle website.Evaluationlinkkeyboard_arrow_upEvaluation will be performed using the \\'Absolute Error\\' method.\\xa0A submission\\'s absolute error is calculated by summing the absolute difference between predicted and actual votes.\\xa0 A low score implies a small deviation of predicted votes from actual votes; a higher score implies a larger difference between predicted votes and actual votes.\\xa0\\xa0The most accurate prediction has the lowest Absolute Error score.\\xa0 Here is an example of how \\'Absolute Error\\' evaluation works:Predicted voting (submitted by contestant X)\\xa0\\xa0\\xa0\\xa0\\xa0\\xa0\\xa0\\xa0\\xa0\\xa0\\xa0\\xa0\\xa0\\xa0\\xa0\\xa0\\xa0\\xa0\\xa0France\\xa0\\xa0\\xa0\\xa0\\xa0\\xa0Moldova \\xa0\\xa0\\xa0 NorwayFrance\\xa0\\xa0\\xa0\\xa0\\xa0\\xa0\\xa0\\xa0\\xa00\\xa0\\xa0\\xa0\\xa0\\xa0\\xa0\\xa0\\xa0\\xa0\\xa0\\xa0\\xa0\\xa0 1\\xa0\\xa0\\xa0\\xa0\\xa0\\xa0\\xa0\\xa0\\xa0\\xa0\\xa0\\xa0\\xa0\\xa0\\xa01Moldova \\xa0\\xa0\\xa0\\xa0\\xa0 2\\xa0\\xa0\\xa0\\xa0\\xa0\\xa0\\xa0\\xa0\\xa0\\xa0\\xa0\\xa0\\xa0 0\\xa0\\xa0\\xa0\\xa0\\xa0\\xa0\\xa0\\xa0\\xa0\\xa0\\xa0\\xa0\\xa0\\xa0\\xa02Norway\\xa0\\xa0\\xa0\\xa0\\xa0\\xa0\\xa0 1\\xa0\\xa0\\xa0\\xa0\\xa0\\xa0\\xa0\\xa0\\xa0\\xa0\\xa0\\xa0\\xa0 2\\xa0\\xa0\\xa0\\xa0\\xa0\\xa0\\xa0\\xa0\\xa0\\xa0\\xa0\\xa0\\xa0\\xa0\\xa00\\nActual voting\\xa0\\xa0\\xa0\\xa0\\xa0\\xa0\\xa0\\xa0\\xa0\\xa0\\xa0\\xa0\\xa0\\xa0\\xa0\\xa0\\xa0\\xa0\\xa0France\\xa0\\xa0\\xa0\\xa0\\xa0\\xa0Moldova \\xa0\\xa0\\xa0 NorwayFrance\\xa0\\xa0\\xa0\\xa0\\xa0\\xa0\\xa0\\xa0\\xa00\\xa0\\xa0\\xa0\\xa0\\xa0\\xa0\\xa0\\xa0\\xa0\\xa0\\xa0\\xa0\\xa0\\xa01\\xa0\\xa0\\xa0\\xa0\\xa0\\xa0\\xa0\\xa0\\xa0\\xa0\\xa0\\xa0\\xa0\\xa0\\xa02Moldova \\xa0\\xa0\\xa0\\xa0\\xa0 1\\xa0\\xa0\\xa0\\xa0\\xa0\\xa0\\xa0\\xa0\\xa0\\xa0\\xa0\\xa0\\xa0\\xa00\\xa0\\xa0\\xa0\\xa0\\xa0\\xa0\\xa0\\xa0\\xa0\\xa0\\xa0\\xa0\\xa0\\xa0\\xa01Norway\\xa0\\xa0\\xa0\\xa0\\xa0\\xa0\\xa0\\xa02\\xa0\\xa0\\xa0\\xa0\\xa0\\xa0\\xa0\\xa0\\xa0\\xa0\\xa0\\xa0\\xa0\\xa02\\xa0\\xa0\\xa0\\xa0\\xa0\\xa0\\xa0\\xa0\\xa0\\xa0\\xa0\\xa0\\xa0\\xa0\\xa00 \\nContestant\\xa0X\\'s Absolute Error score,\\xa0working row-by-row, would be calculated as follows:\\xa0Absolute Error(X) = abs(0-0) + abs(1-1) + abs(2-1) + abs(1-2) + abs(0-0) + abs(1-2) + abs(2-1) + abs(2-2) + abs(0-0)\\xa0\\xa0\\xa0\\xa0\\xa0\\xa0\\xa0\\xa0\\xa0\\xa0\\xa0\\xa0\\xa0\\xa0\\xa0\\xa0\\xa0\\xa0\\xa0\\xa0\\xa0\\xa0\\xa0\\xa0\\xa0 = 0 + 0 + 1 + 1 + 0 + 1 + 1+ 0 + 0\\xa0\\xa0\\xa0\\xa0\\xa0\\xa0\\xa0\\xa0\\xa0\\xa0\\xa0\\xa0\\xa0\\xa0\\xa0\\xa0\\xa0\\xa0\\xa0\\xa0\\xa0\\xa0\\xa0\\xa0\\xa0 = 4 Prizeslinkkeyboard_arrow_upThe Eurovision Song Contest 2010 forecasting competition will award a prize of US$1000 to the winning entrant.The prize money will only be awarded once the winner has sent a brief description of the methodology employed to generate his/her submission.Ruleslinkkeyboard_arrow_up\\nOne account per participant\\nYou cannot sign up to Kaggle from multiple accounts and therefore you cannot submit from multiple accounts.\\nNo private sharing outside teams\\n\\n        Privately sharing code or data outside of teams is not permitted.\\n        It\\'s okay to share code if made available to all participants on the forums.\\n    \\nTeam Mergers\\n\\n        Team mergers are allowed and can be performed by the team leader. In order to merge, the combined team must have a total submission count less than or equal to the maximum allowed as of the merge date. The maximum allowed is the number of submissions per day multiplied by the number of days the competition has been running.\\n\\nTeam Limits\\nThere is no maximum team size.\\nSubmission Limits\\nYou may submit a maximum of 5 entries per day.\\nYou may select up to 5 final submissions for judging.\\nCompetition Timeline\\nStart Date: 4/7/2010 7:57 AM UTC\\nMerger Deadline: None\\nEntry Deadline: None\\nEnd Date: 5/25/2010 6:00 PM UTC\\nWho may enterAnybody who complies with the rules of the challenge Eurovision Song Contest 2010\\xa0is welcome to participate.\\xa0\\xa0Only the competition organisers and employees of the European Broadcasting Union are excluded from participating.\\xa0 Contestants may\\xa0enter as individuals or as groups, however the subsequent ranking achieved by their model will be allocated to their individual self/group accordingly.\\xa0 All entrants must identify themselves by registering on Kaggle website, however personal data will only be utilised by the competition organisers and Kaggle in order to communicate with participants.\\xa0\\xa0Submission detailsSubmissions should be made via the \\'Make a Submission\\' page in order to be ranked.\\xa0\\xa0Each contestant may only enter one submission.\\xa0 If you encounter any\\xa0problems with the submission process, please contact the Kaggle administrator.Evaluation and prize-givingThe scoring method is detailed on the \\'Evaluation\\' page.\\xa0\\xa0The winner of the Eurovision Song Contest 2010 will only receive the prize money after\\xa0a brief description of\\xa0their methodology has been submitted to the competition host.\\xa0\\xa0We may ask other top-ranking participants to voluntarily fill out a form regarding their modelling\\xa0methods.SubmissionInstructionslinkkeyboard_arrow_upSubmissions\\xa0must be made using the\\xa0template attached.The countries listed in column one are the competitors in the Eurovision Song Contest 2010 final. The countries listed in row one are the voting countries. Only 25 of these 39 competing (column one) countries will progress from the semi-finals to the final, however each voting country listed in (row one) will vote in the final.\\xa0 Your task effectively involves  two steps:1. Firstly you must predict which 25 countries will make it to the final. Keep in mind that\\xa0Spain, United\\nKingdom, France, Germany and Norway\\xa0are guaranteed final competitors.2. Once you have chosen your 25 finalists you must predict the voting (ie who will vote for who). Make sure you only allocate votes to the 25 countries you predict will make the final. Submissions will only be accepted if each voting country (in row one) has allocated all its votes once to the potential final competitors (in column one), ie:\\xa0the scores of 1, 2, 3, 4, 5, 6, 7, 8, 10, 12 have been allocated exactly once per voting country.Submissions with scores other than 1, 2, 3, 4, 5, 6, 7, 8, 10 or 12 will not be accepted.Submissions will only be accepted if votes are allocated to ≤ 25 countries.\\xa0 Submissions with votes allocated to > 25 countries will not be accepted. Note: all 39 countries vote regardless of whether or not they make the final. Each\\xa0contestant may only enter with one submission. However, a contestant can delete and replace their submission at any time up until the competition\\'s deadline. As exemplified by the example submission, please ensure that there are no blank cells; instead, where no vote is allocated, enter a \\'0\\'.Note: you can open CSV files with Microsoft Excel or OpenOffice for more human-friendly viewing. Citationkeyboard_arrow_upAnthony Goldbloom. (2010). Forecast Eurovision Voting . Kaggle. https://kaggle.com/competitions/Eurovision2010Cite'"
      ]
     },
     "execution_count": 11,
     "metadata": {},
     "output_type": "execute_result"
    }
   ],
   "source": [
    "content"
   ]
  },
  {
   "cell_type": "code",
   "execution_count": 6,
   "metadata": {},
   "outputs": [
    {
     "data": {
      "text/plain": [
       "'Citationkeyboard_arrow_upAnthony Goldbloom. (2010). Forecast Eurovision Voting . Kaggle. https://kaggle.com/competitions/Eurovision2010Cite'"
      ]
     },
     "execution_count": 6,
     "metadata": {},
     "output_type": "execute_result"
    }
   ],
   "source": [
    "soup.get_text()"
   ]
  },
  {
   "cell_type": "markdown",
   "metadata": {},
   "source": [
    "# Format competition summary and problem"
   ]
  },
  {
   "cell_type": "code",
   "execution_count": 27,
   "metadata": {},
   "outputs": [],
   "source": [
    "from langchain.prompts import PromptTemplate\n",
    "\n",
    "\n",
    "\n",
    "def get_formated_comp_description(text):\n",
    "    prompt = PromptTemplate.from_template(\"\"\"Here is data scrapped from kaggle competition. Please format your response this way:\n",
    "    1. Explain the problem for a machine learning expert\n",
    "    2. Give the category of the problem\n",
    "    {competition_text}\"\"\")\n",
    "    return chat_model.predict(prompt.format(competition_text=text))"
   ]
  },
  {
   "cell_type": "markdown",
   "metadata": {},
   "source": [
    "# Get solutions URL for a competition"
   ]
  },
  {
   "cell_type": "code",
   "execution_count": 44,
   "metadata": {},
   "outputs": [],
   "source": [
    "def get_discussion_results(forum_id, n):\n",
    "    results_df = forums_df[forums_df[\"ForumId\"]==forum_id]\n",
    "    results_df = results_df.sort_values(by=[\"Score\",\"TotalMessages\"], ascending=False).head(n).reset_index(drop=True)\n",
    "    return results_df[[\"Title\", \"Id\", \"Score\", \"TotalMessages\", \"TotalReplies\"]]"
   ]
  },
  {
   "cell_type": "code",
   "execution_count": 51,
   "metadata": {},
   "outputs": [
    {
     "data": {
      "text/plain": [
       "[('Solved, without any submission. This Crab has Eleven Years Kaggling.',\n",
       "  'https://www.kaggle.com/c/playground-series-s3e16/discussion/413750',\n",
       "  62),\n",
       " ('3rd private 6th public | Brute-force ensemble| Post-processing',\n",
       "  'https://www.kaggle.com/c/playground-series-s3e16/discussion/416783',\n",
       "  62),\n",
       " ('Feature engineering that helped me reduce MAE to 1.33708',\n",
       "  'https://www.kaggle.com/c/playground-series-s3e16/discussion/415721',\n",
       "  49),\n",
       " ('Some Domain Materials Regarding the Dataset',\n",
       "  'https://www.kaggle.com/c/playground-series-s3e16/discussion/413741',\n",
       "  45),\n",
       " ('To round or not to round?',\n",
       "  'https://www.kaggle.com/c/playground-series-s3e16/discussion/413971',\n",
       "  35),\n",
       " ('Tips and Tricks to help you improve your score. ( Part 2)',\n",
       "  'https://www.kaggle.com/c/playground-series-s3e16/discussion/415200',\n",
       "  27),\n",
       " ('#1 Solution - Experimenting with the data generation model',\n",
       "  'https://www.kaggle.com/c/playground-series-s3e16/discussion/416766',\n",
       "  23),\n",
       " (\"The Most Bizarre Feature Correlation I've Ever Seen\",\n",
       "  'https://www.kaggle.com/c/playground-series-s3e16/discussion/413882',\n",
       "  21),\n",
       " ('#5 Solution | five models + LADRegression',\n",
       "  'https://www.kaggle.com/c/playground-series-s3e16/discussion/416769',\n",
       "  21),\n",
       " ('#2nd Solution | Open-Close Tries | Synthetic Data',\n",
       "  'https://www.kaggle.com/c/playground-series-s3e16/discussion/416903',\n",
       "  17)]"
      ]
     },
     "execution_count": 51,
     "metadata": {},
     "output_type": "execute_result"
    }
   ],
   "source": [
    "def get_discussions_urls(comp_id):\n",
    "    id_forum_comp = comp_df.iloc[comp_id][\"ForumId\"]\n",
    "    comp_slug = comp_df.iloc[comp_id][\"Slug\"]\n",
    "\n",
    "    discussions_df = get_discussion_results(id_forum_comp, 10)\n",
    "    url_list = []\n",
    "    for id_disc, title, score in zip(discussions_df[\"Id\"], discussions_df[\"Title\"], discussions_df[\"Score\"]):\n",
    "        url = f\"https://www.kaggle.com/c/{comp_slug}/discussion/{id_disc}\"\n",
    "        url_list.append((title, url, score))\n",
    "    \n",
    "    return url_list\n",
    "\n",
    "candidate_solutions = get_discussions_urls(5603) \n",
    "candidate_solutions\n"
   ]
  },
  {
   "cell_type": "markdown",
   "metadata": {},
   "source": [
    "# Scrapping of URL solution\n",
    "For a given URL solution, we collect its explanation "
   ]
  },
  {
   "cell_type": "code",
   "execution_count": 53,
   "metadata": {},
   "outputs": [
    {
     "data": {
      "text/plain": [
       "'https://www.kaggle.com/c/playground-series-s3e16/discussion/413741'"
      ]
     },
     "execution_count": 53,
     "metadata": {},
     "output_type": "execute_result"
    }
   ],
   "source": [
    "candidate_solutions[3][1]"
   ]
  },
  {
   "cell_type": "code",
   "execution_count": 86,
   "metadata": {},
   "outputs": [
    {
     "data": {
      "text/plain": [
       "<div class=\"sc-dlyeST hCUClb\"><p>Hello everyone, first of all, I'd like to mention that this is my first Kaggle competition at the global level. Although I consider myself a novice in this field, I have been actively involved in Data Science/Machine Learning Engineering for about a year, and I knew I was good at it. So, being the second in my first competition made me really happy.</p>\n",
       "<p>Soon, I will share my approach and notebook on this Discord channel : <a href=\"https://discord.gg/WpGhjsz8pn\" rel=\"noreferrer nofollow\" target=\"_blank\">https://discord.gg/WpGhjsz8pn</a></p>\n",
       "<p>For now, let me briefly explain my approach:</p>\n",
       "<p>1) First and foremost, I heavily relied on using the class structure and conducted numerous trial and error experiments. I tried almost everything, such as testing different encoders to see which one provides better results, deciding which features to add, and determining which approaches yield better outcomes. I tried various things by adopting an open-close approach. The images below showcase some of my experiments.</p>\n",
       "<p><img alt=\"\" src=\"https://www.googleapis.com/download/storage/v1/b/kaggle-forum-message-attachments/o/inbox%2F11213462%2F17116047177df9bad134c4d40d8fb948%2Fclass.png?generation=1686657891197870&amp;alt=media\"/></p>\n",
       "<p>2) I experimented with a lot of feature engineering techniques, and I cannot individually mention which ones were beneficial or not. However, I will briefly discuss the most important one: I performed a fitting process on the training data to align it with the test data we would encounter. We observed that if there are no outliers in the test data, there are no crabs above the age of 20 or below the age of 4. So, why should we use data for crabs aged 20 and above or 4 and below when training our models? Based on this line of thinking, I decided to build a more accurate model specifically for the test data and removed entries in the training data where the age was greater than 21 or less than 3 (leaving a margin of 1 or 2 years resulted in better results).<br/>\n",
       "The logic I developed at the top had the most significant impact on the success of my model.</p>\n",
       "<p>3) Another significant factor was, of course, the synthetic data creation model shared at the <a href=\"https://www.kaggle.com/code/inversion/make-synthetic-crab-age-data\" target=\"_blank\">address</a> This model helped me align the test data to be suitable for 5-fold validation. Since we had 56k test samples and planned to use 5 folds, and one-fifth of my available training data would be used for validation, I aimed to keep the number of validation and test samples similar or equal. I first generated around 200k data points using this model. Additionally, the competition provided approximately 74k training samples. As a result, I ended up with a training dataset of around 274k samples. By using this dataset in 5 folds, each fold had approximately 55 samples, which is close to the number of samples in the test data. This approach aimed to increase the correlation between CV and LB scores.</p>\n",
       "<p>4) For the model approach, I found the best parameters for the desired algorithms using Optuna in a separate notebook. Then, in the original notebook, I built models using these parameters and performed ensembling.</p>\n",
       "<p>5) I used XGBoost, LightGBM, CatBoost, and HGBR - a total of 4 models. Although using Gradient Boosting slightly increased the CV score, I didn't include it due to the significant time investment and reduced experimentation opportunities.</p>\n",
       "<p>These are the general outlines of my approach. Of course, there is much more, but as I mentioned before, I will share all the details and the notebook on this Discord channel : <a href=\"https://discord.gg/WpGhjsz8pn\" rel=\"noreferrer nofollow\" target=\"_blank\">https://discord.gg/WpGhjsz8pn</a></p>\n",
       "<p>I hope you find it useful. If you did, I would appreciate an upvote :)</p>\n",
       "<p>Thank you!</p></div>"
      ]
     },
     "execution_count": 86,
     "metadata": {},
     "output_type": "execute_result"
    }
   ],
   "source": [
    "from selenium import webdriver\n",
    "from bs4 import BeautifulSoup\n",
    "from selenium.webdriver.common.by import By\n",
    "from selenium.webdriver.support.wait import WebDriverWait\n",
    "from selenium.webdriver.support import expected_conditions as EC\n",
    "\n",
    "\n",
    "def get_solution_scrapping(url):\n",
    "    options = webdriver.ChromeOptions()\n",
    "    options.add_argument(\"ignore-certificate-errors\")\n",
    "    options.add_argument(\"--headless\")\n",
    "    driver = webdriver.Chrome(options=options) \n",
    "\n",
    "    driver.get(url)\n",
    "\n",
    "    WebDriverWait(driver, 15).until(\n",
    "        EC.presence_of_element_located((By.CLASS_NAME, \"sc-bZMpAI\"))\n",
    "    )\n",
    "\n",
    "    soup = BeautifulSoup(driver.page_source, 'html.parser')\n",
    "    return soup.find(class_=\"sc-dlyeST\")\n",
    "get_solution_scrapping(candidate_solutions[9][1])"
   ]
  },
  {
   "cell_type": "markdown",
   "metadata": {},
   "source": [
    "# Storing and retrieval of embeddings "
   ]
  },
  {
   "cell_type": "code",
   "execution_count": 20,
   "metadata": {},
   "outputs": [],
   "source": [
    "soup, content = get_page_content('http://www.kaggle.com/c/Eurovision2010')"
   ]
  },
  {
   "cell_type": "code",
   "execution_count": 28,
   "metadata": {},
   "outputs": [],
   "source": [
    "formated_comp_desc = get_formated_comp_description(content)"
   ]
  },
  {
   "cell_type": "code",
   "execution_count": 29,
   "metadata": {},
   "outputs": [
    {
     "data": {
      "text/plain": [
       "'1. The problem for a machine learning expert is to predict the voting outcomes for the 2010 Eurovision Song Contest. This involves predicting which 25 countries will make it to the final and then predicting the voting between these countries. The goal is to create a model that accurately predicts the voting results based on historical voting patterns, betting odds, song details, and artist details.\\n\\n2. The category of the problem is a classification and prediction problem. It involves predicting the categorical outcome of which countries will make it to the final and then predicting the numerical outcome of the voting scores between these countries.'"
      ]
     },
     "execution_count": 29,
     "metadata": {},
     "output_type": "execute_result"
    }
   ],
   "source": [
    "formated_comp_desc"
   ]
  },
  {
   "cell_type": "code",
   "execution_count": 1,
   "metadata": {},
   "outputs": [
    {
     "ename": "NameError",
     "evalue": "name 'formated_comp_desc' is not defined",
     "output_type": "error",
     "traceback": [
      "\u001b[0;31m---------------------------------------------------------------------------\u001b[0m",
      "\u001b[0;31mNameError\u001b[0m                                 Traceback (most recent call last)",
      "Cell \u001b[0;32mIn[1], line 9\u001b[0m\n\u001b[1;32m      6\u001b[0m     \u001b[39mreturn\u001b[39;00m Document(page_content\u001b[39m=\u001b[39mcontent, metadata\u001b[39m=\u001b[39m{\u001b[39m\"\u001b[39m\u001b[39msource\u001b[39m\u001b[39m\"\u001b[39m: \u001b[39m\"\u001b[39m\u001b[39mlocal\u001b[39m\u001b[39m\"\u001b[39m})\n\u001b[1;32m      8\u001b[0m \u001b[39m# embeddings = OpenAIEmbeddings.embed_documents(texts=[content])\u001b[39;00m\n\u001b[0;32m----> 9\u001b[0m documents \u001b[39m=\u001b[39m [create_document(formated_comp_desc), create_document(\u001b[39m\"\u001b[39m\u001b[39mThis is a competition where we have a time serie forecasting problem\u001b[39m\u001b[39m\"\u001b[39m), create_document(\u001b[39m\"\u001b[39m\u001b[39mthis is a random string\u001b[39m\u001b[39m\"\u001b[39m)]\n\u001b[1;32m     11\u001b[0m vectorstore \u001b[39m=\u001b[39m Chroma\u001b[39m.\u001b[39mfrom_documents(documents\u001b[39m=\u001b[39mdocuments, embedding\u001b[39m=\u001b[39mOpenAIEmbeddings())\n",
      "\u001b[0;31mNameError\u001b[0m: name 'formated_comp_desc' is not defined"
     ]
    }
   ],
   "source": [
    "from langchain.embeddings import OpenAIEmbeddings\n",
    "from langchain.vectorstores import Chroma\n",
    "from langchain.docstore.document import Document\n",
    "\n",
    "def create_document(content):\n",
    "    return Document(page_content=content, metadata={\"source\": \"local\"})\n",
    "\n",
    "# embeddings = OpenAIEmbeddings.embed_documents(texts=[content])\n",
    "documents = [create_document(formated_comp_desc), create_document(\"This is a competition where we have a time serie forecasting problem\"), create_document(\"this is a random string\")]\n",
    "\n",
    "vectorstore = Chroma.from_documents(documents=documents, embedding=OpenAIEmbeddings())"
   ]
  },
  {
   "cell_type": "code",
   "execution_count": 33,
   "metadata": {},
   "outputs": [
    {
     "data": {
      "text/plain": [
       "[Document(page_content='This is a competition where we have a time serie forecasting problem', metadata={'source': 'local'}),\n",
       " Document(page_content='This is a competition where we have a time serie forecasting problem', metadata={'source': 'local'}),\n",
       " Document(page_content='1. The problem for a machine learning expert is to predict the voting outcomes for the 2010 Eurovision Song Contest. This involves predicting which 25 countries will make it to the final and then predicting the voting between these countries. The goal is to create a model that accurately predicts the voting results based on historical voting patterns, betting odds, song details, and artist details.\\n\\n2. The category of the problem is a classification and prediction problem. It involves predicting the categorical outcome of which countries will make it to the final and then predicting the numerical outcome of the voting scores between these countries.', metadata={'source': 'local'}),\n",
       " Document(page_content='this is a random string', metadata={'source': 'local'})]"
      ]
     },
     "execution_count": 33,
     "metadata": {},
     "output_type": "execute_result"
    }
   ],
   "source": [
    "question = \"Weather prediction\"\n",
    "docs = vectorstore.similarity_search(question)\n",
    "docs"
   ]
  },
  {
   "cell_type": "code",
   "execution_count": null,
   "metadata": {},
   "outputs": [],
   "source": []
  },
  {
   "cell_type": "markdown",
   "metadata": {},
   "source": [
    "# Explaining similarity"
   ]
  },
  {
   "cell_type": "code",
   "execution_count": 37,
   "metadata": {},
   "outputs": [
    {
     "data": {
      "text/plain": [
       "'Both the Kaggle competition and the weather prediction problem involve time series forecasting. In both cases, the goal is to predict future values based on historical data.'"
      ]
     },
     "execution_count": 37,
     "metadata": {},
     "output_type": "execute_result"
    }
   ],
   "source": [
    "prompt = PromptTemplate.from_template(\"\"\"Here is a kaggle competition description {kaggle_desc}. Explain me how this competition is similar to this problem description {problem_desc}. Be concise\"\"\")\n",
    "chat_model.predict(prompt.format(kaggle_desc=docs[0].page_content, problem_desc=\"Weather prediction\"))"
   ]
  }
 ],
 "metadata": {
  "kernelspec": {
   "display_name": ".venv",
   "language": "python",
   "name": "python3"
  },
  "language_info": {
   "codemirror_mode": {
    "name": "ipython",
    "version": 3
   },
   "file_extension": ".py",
   "mimetype": "text/x-python",
   "name": "python",
   "nbconvert_exporter": "python",
   "pygments_lexer": "ipython3",
   "version": "3.10.9"
  },
  "orig_nbformat": 4
 },
 "nbformat": 4,
 "nbformat_minor": 2
}
